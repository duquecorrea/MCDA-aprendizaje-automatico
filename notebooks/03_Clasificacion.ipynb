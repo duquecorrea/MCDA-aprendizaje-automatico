{
 "cells": [
  {
   "cell_type": "markdown",
   "id": "d0f0ad06",
   "metadata": {},
   "source": [
    "# Modelos de Clasificacion"
   ]
  },
  {
   "cell_type": "code",
   "execution_count": null,
   "id": "def53dd0",
   "metadata": {},
   "outputs": [],
   "source": [
    "!uv pip install ucimlrepo"
   ]
  },
  {
   "cell_type": "code",
   "execution_count": null,
   "id": "bc987840",
   "metadata": {},
   "outputs": [],
   "source": [
    "import numpy as np\n",
    "import pandas as pd\n",
    "import matplotlib.pyplot as plt\n",
    "from ucimlrepo import fetch_ucirepo\n",
    "from sklearn.preprocessing import StandardScaler\n",
    "from sklearn.neighbors import KNeighborsClassifier\n",
    "from sklearn.linear_model import LogisticRegression\n",
    "from sklearn.model_selection import LeaveOneOut, KFold\n",
    "from sklearn.model_selection import train_test_split, GridSearchCV\n",
    "from sklearn.metrics import accuracy_score, confusion_matrix, roc_auc_score, precision_score, recall_score, roc_curve\n",
    "\n",
    "from sklearn.ensemble import RandomForestClassifier, GradientBoostingClassifier\n",
    "from sklearn.tree import DecisionTreeClassifier"
   ]
  },
  {
   "cell_type": "code",
   "execution_count": null,
   "id": "91338e1b",
   "metadata": {},
   "outputs": [],
   "source": [
    "# fetch dataset \n",
    "breast_cancer_wisconsin_original = fetch_ucirepo(id=15) \n",
    "  \n",
    "# data (as pandas dataframes) \n",
    "X = breast_cancer_wisconsin_original.data.features \n",
    "y = breast_cancer_wisconsin_original.data.targets \n",
    "  \n",
    "### 1 maligno, 0 benigno\n",
    "y.Class = (y.Class==4).astype(int)\n",
    "X = X.drop(columns = 'Bare_nuclei')"
   ]
  },
  {
   "cell_type": "markdown",
   "id": "d434563e",
   "metadata": {},
   "source": [
    "## Procesamiento de los datos"
   ]
  },
  {
   "cell_type": "code",
   "execution_count": null,
   "id": "61c0b76e",
   "metadata": {},
   "outputs": [],
   "source": [
    "### Particionamiento en train, validation  test 60-20-20\n",
    "X_train, X_tem, y_train, y_tem = train_test_split(X, \n",
    "                                                    y,\n",
    "                                                    stratify = y,\n",
    "                                                    test_size=0.4, \n",
    "                                                    random_state=42)\n",
    "\n",
    "X_val, X_test, y_val, y_test = train_test_split(X_tem, \n",
    "                                                y_tem,\n",
    "                                                stratify = y_tem,\n",
    "                                                test_size=0.5, \n",
    "                                                random_state=42)"
   ]
  },
  {
   "cell_type": "code",
   "execution_count": null,
   "id": "ce24defe",
   "metadata": {},
   "outputs": [],
   "source": [
    "### Escalar el conjunto de datos\n",
    "scaler = StandardScaler()\n",
    "X_train_z = scaler.fit_transform(X_train)\n",
    "X_val_z = scaler.transform(X_val)\n",
    "X_test_z = scaler.transform(X_test)\n",
    "\n",
    "### guardar nombre de las variables\n",
    "var_names = X.columns"
   ]
  },
  {
   "cell_type": "code",
   "execution_count": null,
   "id": "8993f107",
   "metadata": {},
   "outputs": [],
   "source": [
    "# Crear un modelo de regresión logística\n",
    "model_rl = LogisticRegression()\n",
    "\n",
    "# Ajustar el modelo con los datos de entrenamiento\n",
    "model_rl.fit(X_train_z, y_train)\n",
    "\n",
    "# Hacer predicciones en el conjunto de validacion\n",
    "y_pred = model_rl.predict(X_val_z)\n",
    "y_pred_score = model_rl.predict_proba(X_val_z)[:,1]"
   ]
  },
  {
   "cell_type": "code",
   "execution_count": null,
   "id": "4ce91f81",
   "metadata": {},
   "outputs": [],
   "source": [
    "# Calcular la precisión del modelo\n",
    "accuracy = accuracy_score(y_val, y_pred)\n",
    "print(f\"Accuracy del modelo: {accuracy}\")\n",
    "\n",
    "# Mostrar la matriz de confusión y el informe de clasificación\n",
    "print(\"Matriz de confusión:\")\n",
    "print(confusion_matrix(y_val, y_pred))\n",
    "\n",
    "print(\"\\nInforme de clasificación:\")\n",
    "precision = precision_score(y_val, y_pred)\n",
    "recall = recall_score(y_val, y_pred)\n",
    "roc_auc = roc_auc_score(y_val, y_pred_score)\n",
    "\n",
    "print(f'Precision: {precision}')\n",
    "print(f'Recall: {recall}')\n",
    "print(f'ROC-AUC: {roc_auc}')"
   ]
  },
  {
   "cell_type": "code",
   "execution_count": null,
   "id": "e8f6fe0b",
   "metadata": {},
   "outputs": [],
   "source": [
    "### Curva ROC\n",
    "fpr, tpr, thresholds = roc_curve(y_val, y_pred_score)"
   ]
  },
  {
   "cell_type": "code",
   "execution_count": null,
   "id": "6b6e7b96",
   "metadata": {},
   "outputs": [],
   "source": [
    "# Graficar la curva ROC\n",
    "plt.figure('ROC Regresion Logistica',figsize=(8, 6))\n",
    "plt.plot(fpr, tpr, color='orange', label=f'Curva ROC (AUC = {roc_auc:.2f})')\n",
    "plt.plot([0, 1], [0, 1], color='darkblue', linestyle='--', label='Clasificador aleatorio')\n",
    "plt.xlabel('Tasa de Falsos Positivos')\n",
    "plt.ylabel('Tasa de Verdaderos Positivos')\n",
    "plt.title('Curva ROC')\n",
    "plt.legend()\n",
    "plt.show()"
   ]
  },
  {
   "cell_type": "markdown",
   "id": "9fc7cca1",
   "metadata": {},
   "source": [
    "## Cross Validation"
   ]
  },
  {
   "cell_type": "code",
   "execution_count": null,
   "id": "f6b339a3",
   "metadata": {},
   "outputs": [],
   "source": [
    "# Initialize the LOOCV\n",
    "loo = LeaveOneOut()\n",
    "\n",
    "y_pred_vec = []\n",
    "y_true_vec = []\n",
    "# Perform LOOCV\n",
    "for train_index, test_index in loo.split(X_train_z):\n",
    "    X_train_cv, X_test_cv = X_train_z[train_index], X_train_z[test_index]\n",
    "    y_train_cv, y_test_cv = y_train.values[train_index], y_train.values[test_index]\n",
    "\n",
    "    # Fit the model\n",
    "    model_cv = LogisticRegression()\n",
    "    model_cv.fit(X_train_cv, y_train_cv)\n",
    "\n",
    "    # Make predictions\n",
    "    y_pred = model_cv.predict(X_test_cv)\n",
    "\n",
    "    # Print the results for each iteration\n",
    "    #print(f\"True value: {y_test_cv[0]}, Predicted value: {y_pred[0]}\")\n",
    "\n",
    "    y_pred_vec.append(y_pred[0])\n",
    "    y_true_vec.append(y_test_cv[0])"
   ]
  },
  {
   "cell_type": "code",
   "execution_count": null,
   "id": "300b5626",
   "metadata": {},
   "outputs": [],
   "source": [
    "# Calcular la precisión del modelo\n",
    "accuracy = accuracy_score(y_true_vec, y_pred_vec)\n",
    "print(f\"accuracy del modelo: {accuracy}\")\n",
    "\n",
    "# Mostrar la matriz de confusión y el informe de clasificación\n",
    "print(\"Matriz de confusión:\")\n",
    "print(confusion_matrix(y_true_vec, y_pred_vec))\n",
    "\n",
    "print(\"\\nInforme de clasificación:\")\n",
    "precision = precision_score(y_true_vec, y_pred_vec)\n",
    "recall = recall_score(y_true_vec, y_pred_vec)\n",
    "\n",
    "print(f'Precision: {precision}')\n",
    "print(f'Recall: {recall}')"
   ]
  },
  {
   "cell_type": "markdown",
   "id": "8114d05f",
   "metadata": {},
   "source": [
    "## K Folds"
   ]
  },
  {
   "cell_type": "code",
   "execution_count": null,
   "id": "104201b5",
   "metadata": {},
   "outputs": [],
   "source": [
    "# Define the number of folds\n",
    "k = 3\n",
    "\n",
    "# Initialize the KFold\n",
    "kf = KFold(n_splits=k)\n",
    "\n",
    "recall_vec = []\n",
    "precision_vec = []\n",
    "accuracy_vec = []\n",
    "# Perform k-fold cross-validation\n",
    "for train_index, test_index in kf.split(X_train_z):\n",
    "    X_train_cv, X_test_cv = X_train_z[train_index], X_train_z[test_index]\n",
    "    y_train_cv, y_test_cv = y_train.values[train_index], y_train.values[test_index]\n",
    "\n",
    "    # Fit the model\n",
    "    model_cv = LogisticRegression()\n",
    "    model_cv.fit(X_train_cv, y_train_cv)\n",
    "\n",
    "    # Make predictions\n",
    "    y_pred = model_cv.predict(X_test_cv)\n",
    "    \n",
    "    # Calcular la precisión del modelo\n",
    "    accuracy = accuracy_score(y_test_cv, y_pred)\n",
    "    precision = precision_score(y_test_cv, y_pred)\n",
    "    recall = recall_score(y_test_cv, y_pred)\n",
    "    \n",
    "    recall_vec.append(recall)\n",
    "    precision_vec.append(precision)\n",
    "    accuracy_vec.append(accuracy)"
   ]
  },
  {
   "cell_type": "code",
   "execution_count": null,
   "id": "8c8d0257",
   "metadata": {},
   "outputs": [],
   "source": [
    "print(f'Recall: {np.mean(recall_vec)}')\n",
    "print(f'Precision: {np.mean(precision_vec)}')\n",
    "print(f'Accuracy: {np.mean(accuracy_vec)}')"
   ]
  },
  {
   "cell_type": "code",
   "execution_count": null,
   "id": "b3f23f5c",
   "metadata": {},
   "outputs": [],
   "source": [
    "### funcion alternativa para cross validation\n",
    "from sklearn.model_selection import cross_val_score\n",
    "\n",
    "### obtener error de validacion cruzada\n",
    "# Cross-validation with accuracy\n",
    "model_rl = LogisticRegression()\n",
    "accuracy_scores = cross_val_score(model_rl, X_train_z, y_train, cv=5, scoring='accuracy')\n",
    "print(f'Accuracy (CV): {np.mean(accuracy_scores)}')"
   ]
  },
  {
   "cell_type": "markdown",
   "id": "2ef777b0",
   "metadata": {},
   "source": [
    "## Regresion Logistica con Regularizacion"
   ]
  },
  {
   "cell_type": "markdown",
   "id": "5f785e9f",
   "metadata": {},
   "source": [
    "### Lasso"
   ]
  },
  {
   "cell_type": "code",
   "execution_count": null,
   "id": "c3b8ed23",
   "metadata": {
    "scrolled": true
   },
   "outputs": [],
   "source": [
    "model_rg_lasso = LogisticRegression(penalty='l1', solver='liblinear', random_state=0)\n",
    "\n",
    "# Definir los parámetros para la búsqueda\n",
    "parameters = {'C': np.logspace(-3, 3, 100)}  # Rango de valores de C para probar\n",
    "\n",
    "# Realizar la búsqueda de cuadrícula para encontrar el mejor valor de C\n",
    "clf = GridSearchCV(model_rg_lasso, parameters, cv=5)\n",
    "clf.fit(X_train_z, y_train)\n",
    "\n",
    "# Obtener el mejor valor de C\n",
    "best_C = clf.best_params_['C']\n",
    "print(f\"Mejor valor de C: {best_C}\")"
   ]
  },
  {
   "cell_type": "code",
   "execution_count": null,
   "id": "c20efd67-cecf-40fa-b456-b76ec8f63fe6",
   "metadata": {},
   "outputs": [],
   "source": [
    "print(f\"Mejor valor de C: {best_C}\")"
   ]
  },
  {
   "cell_type": "code",
   "execution_count": null,
   "id": "fd4bc0fa",
   "metadata": {},
   "outputs": [],
   "source": [
    "### Seleccion de variables\n",
    "df_vars = pd.DataFrame()\n",
    "df_vars['vars'] = var_names.values\n",
    "df_vars['Coef'] = clf.best_estimator_.coef_[0]\n",
    "df_vars"
   ]
  },
  {
   "cell_type": "code",
   "execution_count": null,
   "id": "6facfc9a",
   "metadata": {},
   "outputs": [],
   "source": [
    "# Ajustar el modelo con el mejor valor de C\n",
    "model_rg_lasso = LogisticRegression(penalty='l1', C=best_C, solver='liblinear', random_state=0)\n",
    "model_rg_lasso.fit(X_train_z, y_train)\n",
    "\n",
    "# Hacer predicciones en el conjunto de prueba\n",
    "y_pred = model_rg_lasso.predict(X_val_z)\n",
    "y_pred_score = model_rg_lasso.predict_proba(X_val_z)[:,1]"
   ]
  },
  {
   "cell_type": "code",
   "execution_count": null,
   "id": "1e2cb99a",
   "metadata": {},
   "outputs": [],
   "source": [
    "# Calcular la precisión del modelo\n",
    "accuracy = accuracy_score(y_val, y_pred)\n",
    "print(f\"Precisión del modelo: {accuracy}\")\n",
    "\n",
    "# Mostrar la matriz de confusión y el informe de clasificación\n",
    "print(\"Matriz de confusión:\")\n",
    "print(confusion_matrix(y_val, y_pred))\n",
    "\n",
    "print(\"\\nInforme de clasificación:\")\n",
    "precision = precision_score(y_val, y_pred)\n",
    "recall = recall_score(y_val, y_pred)\n",
    "roc_auc = roc_auc_score(y_val, y_pred_score)\n",
    "\n",
    "print(f'Precision: {precision}')\n",
    "print(f'Recall: {recall}')\n",
    "print(f'ROC-AUC: {roc_auc}')"
   ]
  },
  {
   "cell_type": "markdown",
   "id": "11718397",
   "metadata": {},
   "source": [
    "### Ridge"
   ]
  },
  {
   "cell_type": "code",
   "execution_count": null,
   "id": "431e3cdc",
   "metadata": {},
   "outputs": [],
   "source": [
    "model_rg_ridge = LogisticRegression(penalty='l2', solver='lbfgs', random_state=0)\n",
    "\n",
    "# Definir los parámetros para la búsqueda\n",
    "parameters = {'C': np.logspace(-3, 3, 100)}  # Rango de valores de C para probar\n",
    "\n",
    "# Realizar la búsqueda de cuadrícula para encontrar el mejor valor de C\n",
    "clf = GridSearchCV(model_rg_ridge, parameters, cv=5)\n",
    "clf.fit(X_train_z, y_train)\n",
    "\n",
    "# Obtener el mejor valor de C\n",
    "best_C = clf.best_params_['C']\n",
    "print(f\"Mejor valor de C: {best_C}\")"
   ]
  },
  {
   "cell_type": "code",
   "execution_count": null,
   "id": "3d671f32",
   "metadata": {},
   "outputs": [],
   "source": [
    "### Seleccion de variables\n",
    "df_vars = pd.DataFrame()\n",
    "df_vars['vars'] = var_names.values\n",
    "df_vars['Coef'] = clf.best_estimator_.coef_[0]\n",
    "df_vars"
   ]
  },
  {
   "cell_type": "code",
   "execution_count": null,
   "id": "f6b23cf7",
   "metadata": {},
   "outputs": [],
   "source": [
    "# Ajustar el modelo con el mejor valor de C\n",
    "model_rg_ridge = LogisticRegression(penalty='l2', C=best_C, solver='lbfgs', random_state=0)\n",
    "model_rg_ridge.fit(X_train_z, y_train)\n",
    "\n",
    "# Hacer predicciones en el conjunto de prueba\n",
    "y_pred = model_rg_ridge.predict(X_val_z)\n",
    "y_pred_score = model_rg_ridge.predict_proba(X_val_z)[:,1]"
   ]
  },
  {
   "cell_type": "code",
   "execution_count": null,
   "id": "9bd27e29",
   "metadata": {},
   "outputs": [],
   "source": [
    "# Calcular la precisión del modelo\n",
    "accuracy = accuracy_score(y_val, y_pred)\n",
    "print(f\"Precisión del modelo: {accuracy}\")\n",
    "\n",
    "# Mostrar la matriz de confusión y el informe de clasificación\n",
    "print(\"Matriz de confusión:\")\n",
    "print(confusion_matrix(y_val, y_pred))\n",
    "\n",
    "print(\"\\nInforme de clasificación:\")\n",
    "precision = precision_score(y_val, y_pred)\n",
    "recall = recall_score(y_val, y_pred)\n",
    "roc_auc = roc_auc_score(y_val, y_pred_score)\n",
    "\n",
    "print(f'Precision: {precision}')\n",
    "print(f'Recall: {recall}')\n",
    "print(f'ROC-AUC: {roc_auc}')"
   ]
  },
  {
   "cell_type": "markdown",
   "id": "1245566c",
   "metadata": {},
   "source": [
    "## KNN"
   ]
  },
  {
   "cell_type": "code",
   "execution_count": null,
   "id": "837f5295",
   "metadata": {},
   "outputs": [],
   "source": [
    "# Create a KNN classifier with a specified number of neighbors (e.g., 3)\n",
    "k = 10\n",
    "knn = KNeighborsClassifier(n_neighbors=k)\n",
    "\n",
    "# Fit the classifier to the training data\n",
    "knn.fit(X_train_z, y_train)\n",
    "\n",
    "# Make predictions on the test data\n",
    "y_pred = knn.predict(X_val_z)\n",
    "y_pred_score = knn.predict_proba(X_val_z)[:,1]"
   ]
  },
  {
   "cell_type": "code",
   "execution_count": null,
   "id": "f8c9bc6d",
   "metadata": {},
   "outputs": [],
   "source": [
    "# Calcular la precisión del modelo\n",
    "accuracy = accuracy_score(y_val, y_pred)\n",
    "print(f\"Precisión del modelo: {accuracy}\")\n",
    "\n",
    "# Mostrar la matriz de confusión y el informe de clasificación\n",
    "print(\"Matriz de confusión:\")\n",
    "print(confusion_matrix(y_val, y_pred))\n",
    "\n",
    "print(\"\\nInforme de clasificación:\")\n",
    "precision = precision_score(y_val, y_pred)\n",
    "recall = recall_score(y_val, y_pred)\n",
    "roc_auc = roc_auc_score(y_val, y_pred_score)\n",
    "\n",
    "print(f'Precision: {precision}')\n",
    "print(f'Recall: {recall}')\n",
    "print(f'ROC-AUC: {roc_auc}')"
   ]
  },
  {
   "cell_type": "markdown",
   "id": "42ae7594",
   "metadata": {},
   "source": [
    "# Arbol de Decision"
   ]
  },
  {
   "cell_type": "code",
   "execution_count": null,
   "id": "f10de43b",
   "metadata": {},
   "outputs": [],
   "source": [
    "### Arbol de decisión\n",
    "from sklearn.datasets import make_classification\n",
    "from sklearn.tree import plot_tree"
   ]
  },
  {
   "cell_type": "code",
   "execution_count": null,
   "id": "be7a3f97",
   "metadata": {},
   "outputs": [],
   "source": [
    "# 1. Crear dataset sintético (2D para graficar)\n",
    "X, y = make_classification(n_samples=200, n_features=2, \n",
    "                           n_redundant=0, n_informative=2,\n",
    "                           n_clusters_per_class=1, random_state=42)\n",
    "\n",
    "# 2. Entrenar árbol de decisión\n",
    "clf = DecisionTreeClassifier(max_depth=3, random_state=42)\n",
    "clf.fit(X, y)\n"
   ]
  },
  {
   "cell_type": "code",
   "execution_count": null,
   "id": "d4309734",
   "metadata": {},
   "outputs": [],
   "source": [
    "# 3. Graficar el árbol entrenado\n",
    "plt.figure(figsize=(10,6))\n",
    "plot_tree(clf, filled=True, feature_names=[\"x1\",\"x2\"], class_names=[\"Clase 0\",\"Clase 1\"])\n",
    "plt.title(\"Árbol de Decisión\")\n",
    "plt.show()"
   ]
  },
  {
   "cell_type": "code",
   "execution_count": null,
   "id": "b386a302",
   "metadata": {},
   "outputs": [],
   "source": [
    "# 4. Graficar la frontera de decisión\n",
    "x_min, x_max = X[:, 0].min() - 1, X[:, 0].max() + 1\n",
    "y_min, y_max = X[:, 1].min() - 1, X[:, 1].max() + 1\n",
    "xx, yy = np.meshgrid(np.arange(x_min, x_max, 0.02),\n",
    "                     np.arange(y_min, y_max, 0.02))\n",
    "\n",
    "Z = clf.predict(np.c_[xx.ravel(), yy.ravel()])\n",
    "Z = Z.reshape(xx.shape)\n",
    "\n",
    "plt.figure(figsize=(8,6))\n",
    "plt.contourf(xx, yy, Z, alpha=0.4, cmap=plt.cm.RdYlBu)\n",
    "plt.scatter(X[:, 0], X[:, 1], c=y, s=30, edgecolor=\"k\", cmap=plt.cm.RdYlBu)\n",
    "plt.title(\"Frontera de Decisión del Árbol\")\n",
    "plt.xlabel(\"x1\")\n",
    "plt.ylabel(\"x2\")\n",
    "plt.show()"
   ]
  },
  {
   "cell_type": "code",
   "execution_count": null,
   "id": "4bf2fd2b",
   "metadata": {},
   "outputs": [],
   "source": [
    "### Ajusta arbol de decision a datos reales\n",
    "tree = DecisionTreeClassifier()\n",
    "\n",
    "# Fit the classifier to the training data\n",
    "tree.fit(X_train_z, y_train)\n",
    "\n",
    "# Make predictions on the test data\n",
    "y_pred = knn.predict(X_val_z)\n",
    "y_pred_score = knn.predict_proba(X_val_z)[:,1]"
   ]
  },
  {
   "cell_type": "code",
   "execution_count": null,
   "id": "b8190dbe",
   "metadata": {},
   "outputs": [],
   "source": [
    "# Calcular la precisión del modelo\n",
    "accuracy = accuracy_score(y_val, y_pred)\n",
    "print(f\"Precisión del modelo: {accuracy}\")\n",
    "\n",
    "# Mostrar la matriz de confusión y el informe de clasificación\n",
    "print(\"Matriz de confusión:\")\n",
    "print(confusion_matrix(y_val, y_pred))\n",
    "\n",
    "print(\"\\nInforme de clasificación:\")\n",
    "precision = precision_score(y_val, y_pred)\n",
    "recall = recall_score(y_val, y_pred)\n",
    "roc_auc = roc_auc_score(y_val, y_pred_score)\n",
    "\n",
    "print(f'Precision: {precision}')\n",
    "print(f'Recall: {recall}')\n",
    "print(f'ROC-AUC: {roc_auc}')"
   ]
  },
  {
   "cell_type": "code",
   "execution_count": null,
   "id": "aab470e1",
   "metadata": {},
   "outputs": [],
   "source": [
    "### Ajustar Random Forest\n",
    "forest = RandomForestClassifier(n_estimators=100, random_state=42)\n",
    "forest.fit(X_train_z, y_train)\n",
    "y_pred = forest.predict(X_val_z)\n",
    "y_pred_score = forest.predict_proba(X_val_z)[:,1]\n",
    "# Calcular la precisión del modelo\n",
    "accuracy = accuracy_score(y_val, y_pred)"
   ]
  },
  {
   "cell_type": "code",
   "execution_count": null,
   "id": "bc0f15d7",
   "metadata": {},
   "outputs": [],
   "source": [
    "print(f\"Precisión del modelo: {accuracy}\")\n",
    "# Mostrar la matriz de confusión y el informe de clasificación\n",
    "print(\"Matriz de confusión:\")\n",
    "print(confusion_matrix(y_val, y_pred))\n",
    "print(\"\\nInforme de clasificación:\")\n",
    "precision = precision_score(y_val, y_pred)\n",
    "recall = recall_score(y_val, y_pred)\n",
    "roc_auc = roc_auc_score(y_val, y_pred_score)\n",
    "\n",
    "print(f'Precision: {precision}')\n",
    "print(f'Recall: {recall}')\n",
    "print(f'ROC-AUC: {roc_auc}')"
   ]
  },
  {
   "cell_type": "code",
   "execution_count": null,
   "id": "fde8d3b8",
   "metadata": {},
   "outputs": [],
   "source": [
    "### Gradient Boosting\n",
    "gbc = GradientBoostingClassifier(n_estimators=100, learning_rate=0.1, random_state=42)\n",
    "gbc.fit(X_train_z, y_train)\n",
    "y_pred = gbc.predict(X_val_z)\n",
    "y_pred_score = gbc.predict_proba(X_val_z)[:,1]"
   ]
  },
  {
   "cell_type": "code",
   "execution_count": null,
   "id": "dbe412b2",
   "metadata": {},
   "outputs": [],
   "source": [
    "# Calcular la precisión del modelo\n",
    "accuracy = accuracy_score(y_val, y_pred)\n",
    "print(f\"Precisión del modelo: {accuracy}\")\n",
    "# Mostrar la matriz de confusión y el informe de clasificación\n",
    "print(\"Matriz de confusión:\")\n",
    "print(confusion_matrix(y_val, y_pred))\n",
    "print(\"\\nInforme de clasificación:\")\n",
    "precision = precision_score(y_val, y_pred)\n",
    "recall = recall_score(y_val, y_pred)\n",
    "roc_auc = roc_auc_score(y_val, y_pred_score)\n",
    "\n",
    "print(f'Precision: {precision}')\n",
    "print(f'Recall: {recall}')\n",
    "print(f'ROC-AUC: {roc_auc}')"
   ]
  }
 ],
 "metadata": {
  "kernelspec": {
   "display_name": "MCDA-aprendizaje-automatico",
   "language": "python",
   "name": "python3"
  },
  "language_info": {
   "codemirror_mode": {
    "name": "ipython",
    "version": 3
   },
   "file_extension": ".py",
   "mimetype": "text/x-python",
   "name": "python",
   "nbconvert_exporter": "python",
   "pygments_lexer": "ipython3",
   "version": "3.10.18"
  }
 },
 "nbformat": 4,
 "nbformat_minor": 5
}
