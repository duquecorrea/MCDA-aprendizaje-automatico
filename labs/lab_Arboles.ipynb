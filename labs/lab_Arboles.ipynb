{
 "cells": [
  {
   "cell_type": "markdown",
   "id": "0b5a96bd",
   "metadata": {},
   "source": [
    "# Lab 4: Árboles de Decisión para Clasificación 🌳\n",
    "\n",
    "En este laboratorio trabajaremos con el dataset de Wine de sklearn.datasets. Entrenaremos un árbol de decisión para clasificar el tipo de vino, visualizaremos el árbol y evaluaremos su desempeño usando validación cruzada."
   ]
  },
  {
   "cell_type": "code",
   "execution_count": null,
   "id": "67a6c2aa",
   "metadata": {},
   "outputs": [],
   "source": [
    "import numpy as np\n",
    "import pandas as pd\n",
    "import matplotlib.pyplot as plt\n",
    "from sklearn.datasets import load_wine\n",
    "from sklearn.tree import DecisionTreeClassifier, plot_tree\n",
    "from sklearn.model_selection import cross_val_score"
   ]
  },
  {
   "cell_type": "code",
   "execution_count": null,
   "id": "99a84b14",
   "metadata": {},
   "outputs": [],
   "source": [
    "# Cargar dataset\n",
    "wine = load_wine()\n",
    "X = wine.data\n",
    "y = wine.target\n",
    "data = pd.DataFrame(X, columns=wine.feature_names)\n",
    "data['target'] = y\n",
    "data.head()"
   ]
  },
  {
   "cell_type": "markdown",
   "id": "a2612bb2",
   "metadata": {},
   "source": [
    "### TO DO:\n",
    "1. Cree 4 variantes de arboles de decision, cada uno con profundidades distintas (2, 3, 4 y 10)\n",
    "    - ¿Qué efecto tiene en el desempeño del modelo?\n",
    "    - ¿Qué ocurre con el tamaño del árbol?\n",
    "2.\tCompare el accuracy promedio de los modelos, y el accuracy en cada fold, cual seria la profundidad ideal?"
   ]
  }
 ],
 "metadata": {
  "kernelspec": {
   "display_name": "MCDA-aprendizaje-automatico",
   "language": "python",
   "name": "python3"
  },
  "language_info": {
   "codemirror_mode": {
    "name": "ipython",
    "version": 3
   },
   "file_extension": ".py",
   "mimetype": "text/x-python",
   "name": "python",
   "nbconvert_exporter": "python",
   "pygments_lexer": "ipython3",
   "version": "3.10.18"
  }
 },
 "nbformat": 4,
 "nbformat_minor": 5
}
