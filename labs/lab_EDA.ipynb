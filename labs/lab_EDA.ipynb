{
 "cells": [
  {
   "cell_type": "markdown",
   "id": "98e03cfa",
   "metadata": {},
   "source": [
    "# Lab 1: EDA"
   ]
  },
  {
   "cell_type": "code",
   "execution_count": null,
   "id": "1d051dc9",
   "metadata": {},
   "outputs": [],
   "source": [
    "import pandas as pd\n",
    "import numpy as np\n",
    "import pingouin as pg\n",
    "from sklearn.datasets import fetch_california_housing"
   ]
  },
  {
   "cell_type": "code",
   "execution_count": null,
   "id": "56ee7c5f",
   "metadata": {},
   "outputs": [],
   "source": [
    "# Carga el dataset de California Housing\n",
    "desc = fetch_california_housing()\n",
    "X,Y = fetch_california_housing(return_X_y = True)\n",
    "data = pd.DataFrame(X, columns =desc['feature_names'] )\n",
    "data[desc['target_names'][0]] = Y "
   ]
  },
  {
   "cell_type": "markdown",
   "id": "e20a86bb",
   "metadata": {},
   "source": [
    "**Para el conjunto de datos dado, realice la implementacion de la siguiente estrategia de eliminacion de informacion redundante:**\n",
    "\n",
    "1.\tEntre las variables explicativas (todas las variables excepto la variable objetivo), identifique los pares con una correlación de Pearson superior al 80%. Para cada par, elimine la variable que presente una menor correlación parcial con la variable objetivo.\n",
    "2.\tAplique una estrategia adicional de reducción de redundancia (al conjunto de datos original) evaluando el índice de correlación múltiple entre las variables explicativas, y elimine aquellas cuya variabilidad explicada sea superior al 80% en funcion de las demas."
   ]
  },
  {
   "cell_type": "code",
   "execution_count": null,
   "id": "8344d5f5",
   "metadata": {},
   "outputs": [],
   "source": [
    "### Ejemplo correlacion parcial:\n",
    "# data.pcorr()"
   ]
  },
  {
   "cell_type": "code",
   "execution_count": null,
   "id": "35956852",
   "metadata": {},
   "outputs": [],
   "source": [
    "### TO DO 1: Eliminacion de reduncancia basado en par de variables"
   ]
  },
  {
   "cell_type": "code",
   "execution_count": null,
   "id": "5f40534b",
   "metadata": {},
   "outputs": [],
   "source": [
    "### TO DO 2: Eliminacion de reduncancia basado en multiples variables\n"
   ]
  }
 ],
 "metadata": {
  "kernelspec": {
   "display_name": "MCDA-aprendizaje-automatico",
   "language": "python",
   "name": "python3"
  },
  "language_info": {
   "codemirror_mode": {
    "name": "ipython",
    "version": 3
   },
   "file_extension": ".py",
   "mimetype": "text/x-python",
   "name": "python",
   "nbconvert_exporter": "python",
   "pygments_lexer": "ipython3",
   "version": "3.10.18"
  }
 },
 "nbformat": 4,
 "nbformat_minor": 5
}
