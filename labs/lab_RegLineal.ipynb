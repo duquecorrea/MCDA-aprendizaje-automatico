{
 "cells": [
  {
   "cell_type": "markdown",
   "id": "6e160af9",
   "metadata": {},
   "source": [
    "# Lab 2: Regresion Lineal\n",
    "\n",
    "Considere el conjunto de datos data/dataset_regression_exercise.csv encuentre cual es el modelo polinomico teorico que genero el modelo"
   ]
  },
  {
   "cell_type": "code",
   "execution_count": null,
   "id": "0e3dccf3",
   "metadata": {},
   "outputs": [],
   "source": [
    "import numpy as np\n",
    "import pandas as pd\n",
    "import matplotlib.pyplot as plt\n",
    "from sklearn.model_selection import GridSearchCV"
   ]
  },
  {
   "cell_type": "code",
   "execution_count": null,
   "id": "b35c63f1",
   "metadata": {},
   "outputs": [],
   "source": [
    "data = pd.read_csv('../data/dataset_regression_exercise.csv', index_col=0)\n",
    "data.head()"
   ]
  },
  {
   "cell_type": "code",
   "execution_count": null,
   "id": "44ec2e77",
   "metadata": {},
   "outputs": [],
   "source": [
    "### Scatter plot de los datos\n",
    "plt.scatter(data['X'], data['Y'])\n",
    "plt.xlabel('X')\n",
    "plt.ylabel('y')\n",
    "plt.title('Scatter plot de los datos')\n",
    "plt.show()"
   ]
  },
  {
   "cell_type": "code",
   "execution_count": null,
   "id": "d7adf644",
   "metadata": {},
   "outputs": [],
   "source": [
    "### TO DO: encuentre el modelo polinomico teorico que genero el modelo\n"
   ]
  }
 ],
 "metadata": {
  "kernelspec": {
   "display_name": "MCDA-aprendizaje-automatico",
   "language": "python",
   "name": "python3"
  },
  "language_info": {
   "codemirror_mode": {
    "name": "ipython",
    "version": 3
   },
   "file_extension": ".py",
   "mimetype": "text/x-python",
   "name": "python",
   "nbconvert_exporter": "python",
   "pygments_lexer": "ipython3",
   "version": "3.10.18"
  }
 },
 "nbformat": 4,
 "nbformat_minor": 5
}
