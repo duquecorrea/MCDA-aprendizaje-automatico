{
 "cells": [
  {
   "cell_type": "markdown",
   "id": "69e506b4",
   "metadata": {},
   "source": [
    "# Lab 3: Clasificación con KNN y Validación Cruzada\n",
    "\n",
    "En este laboratorio trabajaremos con el dataset de Iris de sklearn.datasets, aplicando un modelo de clasificación usando K-Nearest Neighbors (KNN) y la regresion logistica con regularizacion ridge. Evaluaremos el desempeño del modelo utilizando validación cruzada para diferentes hiperparametros."
   ]
  },
  {
   "cell_type": "code",
   "execution_count": null,
   "id": "d27ab1e7",
   "metadata": {},
   "outputs": [],
   "source": [
    "import numpy as np\n",
    "import pandas as pd\n",
    "from sklearn.datasets import load_iris\n",
    "from sklearn.model_selection import cross_val_score, KFold\n",
    "from sklearn.neighbors import KNeighborsClassifier\n",
    "from sklearn.linear_model import LogisticRegression"
   ]
  },
  {
   "cell_type": "code",
   "execution_count": null,
   "id": "74a40dc1",
   "metadata": {},
   "outputs": [],
   "source": [
    "# Carga del dataset Iris\n",
    "iris = load_iris()\n",
    "X = iris.data\n",
    "y = iris.target\n",
    "data = pd.DataFrame(X, columns=iris.feature_names)\n",
    "data['target'] = y\n",
    "data.head()"
   ]
  },
  {
   "cell_type": "code",
   "execution_count": null,
   "id": "6f5adc2e",
   "metadata": {},
   "outputs": [],
   "source": [
    "### TO DO: Evaluar valores de K de 1 hasta 50 y decidir el mejor valor de K\n",
    "# Comparar con diferentes valores de k\n"
   ]
  },
  {
   "cell_type": "code",
   "execution_count": null,
   "id": "c8614998",
   "metadata": {},
   "outputs": [],
   "source": [
    "### TO DO: Implementar regresion logistica con regularizacion ridge y evaluar su desempeño con validacion cruzada usando kfold\n",
    "### evaluar valores de C (0.01, 0.1, 1, 10, 100) y decidir el mejor valor de C\n"
   ]
  },
  {
   "cell_type": "code",
   "execution_count": null,
   "id": "9307d397",
   "metadata": {},
   "outputs": [],
   "source": []
  }
 ],
 "metadata": {
  "kernelspec": {
   "display_name": "MCDA-aprendizaje-automatico",
   "language": "python",
   "name": "python3"
  },
  "language_info": {
   "codemirror_mode": {
    "name": "ipython",
    "version": 3
   },
   "file_extension": ".py",
   "mimetype": "text/x-python",
   "name": "python",
   "nbconvert_exporter": "python",
   "pygments_lexer": "ipython3",
   "version": "3.10.18"
  }
 },
 "nbformat": 4,
 "nbformat_minor": 5
}
