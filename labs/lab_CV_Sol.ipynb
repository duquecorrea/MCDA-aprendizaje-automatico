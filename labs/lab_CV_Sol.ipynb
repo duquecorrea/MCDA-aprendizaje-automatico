{
 "cells": [
  {
   "cell_type": "markdown",
   "id": "69e506b4",
   "metadata": {},
   "source": [
    "# Lab 3: Clasificación con KNN y Validación Cruzada\n",
    "\n",
    "En este laboratorio trabajaremos con el dataset de Iris de sklearn.datasets, aplicando un modelo de clasificación usando K-Nearest Neighbors (KNN) y la regresion logistica con regularizacion ridge. Evaluaremos el desempeño del modelo utilizando validación cruzada para diferentes hiperparametros."
   ]
  },
  {
   "cell_type": "code",
   "execution_count": null,
   "id": "d27ab1e7",
   "metadata": {},
   "outputs": [],
   "source": [
    "import numpy as np\n",
    "import pandas as pd\n",
    "from sklearn.datasets import load_iris\n",
    "from sklearn.model_selection import cross_val_score, KFold\n",
    "from sklearn.neighbors import KNeighborsClassifier\n",
    "from sklearn.linear_model import LogisticRegression"
   ]
  },
  {
   "cell_type": "code",
   "execution_count": 3,
   "id": "74a40dc1",
   "metadata": {},
   "outputs": [
    {
     "data": {
      "application/vnd.microsoft.datawrangler.viewer.v0+json": {
       "columns": [
        {
         "name": "index",
         "rawType": "int64",
         "type": "integer"
        },
        {
         "name": "sepal length (cm)",
         "rawType": "float64",
         "type": "float"
        },
        {
         "name": "sepal width (cm)",
         "rawType": "float64",
         "type": "float"
        },
        {
         "name": "petal length (cm)",
         "rawType": "float64",
         "type": "float"
        },
        {
         "name": "petal width (cm)",
         "rawType": "float64",
         "type": "float"
        },
        {
         "name": "target",
         "rawType": "int64",
         "type": "integer"
        }
       ],
       "ref": "67d2542b-a055-422c-a846-cc14af582245",
       "rows": [
        [
         "0",
         "5.1",
         "3.5",
         "1.4",
         "0.2",
         "0"
        ],
        [
         "1",
         "4.9",
         "3.0",
         "1.4",
         "0.2",
         "0"
        ],
        [
         "2",
         "4.7",
         "3.2",
         "1.3",
         "0.2",
         "0"
        ],
        [
         "3",
         "4.6",
         "3.1",
         "1.5",
         "0.2",
         "0"
        ],
        [
         "4",
         "5.0",
         "3.6",
         "1.4",
         "0.2",
         "0"
        ]
       ],
       "shape": {
        "columns": 5,
        "rows": 5
       }
      },
      "text/html": [
       "<div>\n",
       "<style scoped>\n",
       "    .dataframe tbody tr th:only-of-type {\n",
       "        vertical-align: middle;\n",
       "    }\n",
       "\n",
       "    .dataframe tbody tr th {\n",
       "        vertical-align: top;\n",
       "    }\n",
       "\n",
       "    .dataframe thead th {\n",
       "        text-align: right;\n",
       "    }\n",
       "</style>\n",
       "<table border=\"1\" class=\"dataframe\">\n",
       "  <thead>\n",
       "    <tr style=\"text-align: right;\">\n",
       "      <th></th>\n",
       "      <th>sepal length (cm)</th>\n",
       "      <th>sepal width (cm)</th>\n",
       "      <th>petal length (cm)</th>\n",
       "      <th>petal width (cm)</th>\n",
       "      <th>target</th>\n",
       "    </tr>\n",
       "  </thead>\n",
       "  <tbody>\n",
       "    <tr>\n",
       "      <th>0</th>\n",
       "      <td>5.1</td>\n",
       "      <td>3.5</td>\n",
       "      <td>1.4</td>\n",
       "      <td>0.2</td>\n",
       "      <td>0</td>\n",
       "    </tr>\n",
       "    <tr>\n",
       "      <th>1</th>\n",
       "      <td>4.9</td>\n",
       "      <td>3.0</td>\n",
       "      <td>1.4</td>\n",
       "      <td>0.2</td>\n",
       "      <td>0</td>\n",
       "    </tr>\n",
       "    <tr>\n",
       "      <th>2</th>\n",
       "      <td>4.7</td>\n",
       "      <td>3.2</td>\n",
       "      <td>1.3</td>\n",
       "      <td>0.2</td>\n",
       "      <td>0</td>\n",
       "    </tr>\n",
       "    <tr>\n",
       "      <th>3</th>\n",
       "      <td>4.6</td>\n",
       "      <td>3.1</td>\n",
       "      <td>1.5</td>\n",
       "      <td>0.2</td>\n",
       "      <td>0</td>\n",
       "    </tr>\n",
       "    <tr>\n",
       "      <th>4</th>\n",
       "      <td>5.0</td>\n",
       "      <td>3.6</td>\n",
       "      <td>1.4</td>\n",
       "      <td>0.2</td>\n",
       "      <td>0</td>\n",
       "    </tr>\n",
       "  </tbody>\n",
       "</table>\n",
       "</div>"
      ],
      "text/plain": [
       "   sepal length (cm)  sepal width (cm)  petal length (cm)  petal width (cm)  \\\n",
       "0                5.1               3.5                1.4               0.2   \n",
       "1                4.9               3.0                1.4               0.2   \n",
       "2                4.7               3.2                1.3               0.2   \n",
       "3                4.6               3.1                1.5               0.2   \n",
       "4                5.0               3.6                1.4               0.2   \n",
       "\n",
       "   target  \n",
       "0       0  \n",
       "1       0  \n",
       "2       0  \n",
       "3       0  \n",
       "4       0  "
      ]
     },
     "execution_count": 3,
     "metadata": {},
     "output_type": "execute_result"
    }
   ],
   "source": [
    "# Carga del dataset Iris\n",
    "iris = load_iris()\n",
    "X = iris.data\n",
    "y = iris.target\n",
    "data = pd.DataFrame(X, columns=iris.feature_names)\n",
    "data['target'] = y\n",
    "data.head()"
   ]
  },
  {
   "cell_type": "code",
   "execution_count": 5,
   "id": "6f5adc2e",
   "metadata": {},
   "outputs": [
    {
     "name": "stdout",
     "output_type": "stream",
     "text": [
      "Mejor k: 13.0 con precisión media: 0.9800 ± 0.0163\n"
     ]
    }
   ],
   "source": [
    "### TO DO: Evaluar valores de K de 1 hasta 50 y decidir el mejor valor de K\n",
    "# Comparar con diferentes valores de k\n",
    "k_values = range(1, 51)\n",
    "cv = KFold(n_splits=5, shuffle=True, random_state=42)\n",
    "\n",
    "# Almacenar los resultados\n",
    "results = []\n",
    "for k in k_values:\n",
    "    knn = KNeighborsClassifier(n_neighbors=k)\n",
    "    scores = cross_val_score(knn, X, y, cv=cv, scoring='accuracy')\n",
    "    results.append((k, np.mean(scores), np.std(scores)))\n",
    "\n",
    "# Convertir resultados a DataFrame para mejor visualización\n",
    "results_df = pd.DataFrame(results, columns=['k', 'mean_accuracy', 'std_accuracy'])\n",
    "   \n",
    "# Encontrar el mejor valor de k\n",
    "best_k = results_df.loc[results_df['mean_accuracy'].idxmax()]\n",
    "print(f\"Mejor k: {best_k['k']} con precisión media: {best_k['mean_accuracy']:.4f} ± {best_k['std_accuracy']:.4f}\")"
   ]
  },
  {
   "cell_type": "code",
   "execution_count": 7,
   "id": "c8614998",
   "metadata": {},
   "outputs": [
    {
     "name": "stdout",
     "output_type": "stream",
     "text": [
      "Mejor C: 100.0 con precisión media: 0.9733 ± 0.0249\n"
     ]
    },
    {
     "name": "stderr",
     "output_type": "stream",
     "text": [
      "/Users/pablosaldarriaga/Library/CloudStorage/OneDrive-Personal/Trabajo/Docencia/EAFIT/2025-2 Machine Learning/MCDA-aprendizaje-automatico/.venv/lib/python3.10/site-packages/sklearn/linear_model/_logistic.py:1281: FutureWarning: 'multi_class' was deprecated in version 1.5 and will be removed in 1.8. Use OneVsRestClassifier(LogisticRegression(..)) instead. Leave it to its default value to avoid this warning.\n",
      "  warnings.warn(\n",
      "/Users/pablosaldarriaga/Library/CloudStorage/OneDrive-Personal/Trabajo/Docencia/EAFIT/2025-2 Machine Learning/MCDA-aprendizaje-automatico/.venv/lib/python3.10/site-packages/sklearn/linear_model/_logistic.py:1296: FutureWarning: Using the 'liblinear' solver for multiclass classification is deprecated. An error will be raised in 1.8. Either use another solver which supports the multinomial loss or wrap the estimator in a OneVsRestClassifier to keep applying a one-versus-rest scheme.\n",
      "  warnings.warn(\n",
      "/Users/pablosaldarriaga/Library/CloudStorage/OneDrive-Personal/Trabajo/Docencia/EAFIT/2025-2 Machine Learning/MCDA-aprendizaje-automatico/.venv/lib/python3.10/site-packages/sklearn/linear_model/_logistic.py:1281: FutureWarning: 'multi_class' was deprecated in version 1.5 and will be removed in 1.8. Use OneVsRestClassifier(LogisticRegression(..)) instead. Leave it to its default value to avoid this warning.\n",
      "  warnings.warn(\n",
      "/Users/pablosaldarriaga/Library/CloudStorage/OneDrive-Personal/Trabajo/Docencia/EAFIT/2025-2 Machine Learning/MCDA-aprendizaje-automatico/.venv/lib/python3.10/site-packages/sklearn/linear_model/_logistic.py:1296: FutureWarning: Using the 'liblinear' solver for multiclass classification is deprecated. An error will be raised in 1.8. Either use another solver which supports the multinomial loss or wrap the estimator in a OneVsRestClassifier to keep applying a one-versus-rest scheme.\n",
      "  warnings.warn(\n",
      "/Users/pablosaldarriaga/Library/CloudStorage/OneDrive-Personal/Trabajo/Docencia/EAFIT/2025-2 Machine Learning/MCDA-aprendizaje-automatico/.venv/lib/python3.10/site-packages/sklearn/linear_model/_logistic.py:1281: FutureWarning: 'multi_class' was deprecated in version 1.5 and will be removed in 1.8. Use OneVsRestClassifier(LogisticRegression(..)) instead. Leave it to its default value to avoid this warning.\n",
      "  warnings.warn(\n",
      "/Users/pablosaldarriaga/Library/CloudStorage/OneDrive-Personal/Trabajo/Docencia/EAFIT/2025-2 Machine Learning/MCDA-aprendizaje-automatico/.venv/lib/python3.10/site-packages/sklearn/linear_model/_logistic.py:1296: FutureWarning: Using the 'liblinear' solver for multiclass classification is deprecated. An error will be raised in 1.8. Either use another solver which supports the multinomial loss or wrap the estimator in a OneVsRestClassifier to keep applying a one-versus-rest scheme.\n",
      "  warnings.warn(\n",
      "/Users/pablosaldarriaga/Library/CloudStorage/OneDrive-Personal/Trabajo/Docencia/EAFIT/2025-2 Machine Learning/MCDA-aprendizaje-automatico/.venv/lib/python3.10/site-packages/sklearn/linear_model/_logistic.py:1281: FutureWarning: 'multi_class' was deprecated in version 1.5 and will be removed in 1.8. Use OneVsRestClassifier(LogisticRegression(..)) instead. Leave it to its default value to avoid this warning.\n",
      "  warnings.warn(\n",
      "/Users/pablosaldarriaga/Library/CloudStorage/OneDrive-Personal/Trabajo/Docencia/EAFIT/2025-2 Machine Learning/MCDA-aprendizaje-automatico/.venv/lib/python3.10/site-packages/sklearn/linear_model/_logistic.py:1296: FutureWarning: Using the 'liblinear' solver for multiclass classification is deprecated. An error will be raised in 1.8. Either use another solver which supports the multinomial loss or wrap the estimator in a OneVsRestClassifier to keep applying a one-versus-rest scheme.\n",
      "  warnings.warn(\n",
      "/Users/pablosaldarriaga/Library/CloudStorage/OneDrive-Personal/Trabajo/Docencia/EAFIT/2025-2 Machine Learning/MCDA-aprendizaje-automatico/.venv/lib/python3.10/site-packages/sklearn/linear_model/_logistic.py:1281: FutureWarning: 'multi_class' was deprecated in version 1.5 and will be removed in 1.8. Use OneVsRestClassifier(LogisticRegression(..)) instead. Leave it to its default value to avoid this warning.\n",
      "  warnings.warn(\n",
      "/Users/pablosaldarriaga/Library/CloudStorage/OneDrive-Personal/Trabajo/Docencia/EAFIT/2025-2 Machine Learning/MCDA-aprendizaje-automatico/.venv/lib/python3.10/site-packages/sklearn/linear_model/_logistic.py:1296: FutureWarning: Using the 'liblinear' solver for multiclass classification is deprecated. An error will be raised in 1.8. Either use another solver which supports the multinomial loss or wrap the estimator in a OneVsRestClassifier to keep applying a one-versus-rest scheme.\n",
      "  warnings.warn(\n",
      "/Users/pablosaldarriaga/Library/CloudStorage/OneDrive-Personal/Trabajo/Docencia/EAFIT/2025-2 Machine Learning/MCDA-aprendizaje-automatico/.venv/lib/python3.10/site-packages/sklearn/linear_model/_logistic.py:1281: FutureWarning: 'multi_class' was deprecated in version 1.5 and will be removed in 1.8. Use OneVsRestClassifier(LogisticRegression(..)) instead. Leave it to its default value to avoid this warning.\n",
      "  warnings.warn(\n",
      "/Users/pablosaldarriaga/Library/CloudStorage/OneDrive-Personal/Trabajo/Docencia/EAFIT/2025-2 Machine Learning/MCDA-aprendizaje-automatico/.venv/lib/python3.10/site-packages/sklearn/linear_model/_logistic.py:1296: FutureWarning: Using the 'liblinear' solver for multiclass classification is deprecated. An error will be raised in 1.8. Either use another solver which supports the multinomial loss or wrap the estimator in a OneVsRestClassifier to keep applying a one-versus-rest scheme.\n",
      "  warnings.warn(\n",
      "/Users/pablosaldarriaga/Library/CloudStorage/OneDrive-Personal/Trabajo/Docencia/EAFIT/2025-2 Machine Learning/MCDA-aprendizaje-automatico/.venv/lib/python3.10/site-packages/sklearn/linear_model/_logistic.py:1281: FutureWarning: 'multi_class' was deprecated in version 1.5 and will be removed in 1.8. Use OneVsRestClassifier(LogisticRegression(..)) instead. Leave it to its default value to avoid this warning.\n",
      "  warnings.warn(\n",
      "/Users/pablosaldarriaga/Library/CloudStorage/OneDrive-Personal/Trabajo/Docencia/EAFIT/2025-2 Machine Learning/MCDA-aprendizaje-automatico/.venv/lib/python3.10/site-packages/sklearn/linear_model/_logistic.py:1296: FutureWarning: Using the 'liblinear' solver for multiclass classification is deprecated. An error will be raised in 1.8. Either use another solver which supports the multinomial loss or wrap the estimator in a OneVsRestClassifier to keep applying a one-versus-rest scheme.\n",
      "  warnings.warn(\n",
      "/Users/pablosaldarriaga/Library/CloudStorage/OneDrive-Personal/Trabajo/Docencia/EAFIT/2025-2 Machine Learning/MCDA-aprendizaje-automatico/.venv/lib/python3.10/site-packages/sklearn/linear_model/_logistic.py:1281: FutureWarning: 'multi_class' was deprecated in version 1.5 and will be removed in 1.8. Use OneVsRestClassifier(LogisticRegression(..)) instead. Leave it to its default value to avoid this warning.\n",
      "  warnings.warn(\n",
      "/Users/pablosaldarriaga/Library/CloudStorage/OneDrive-Personal/Trabajo/Docencia/EAFIT/2025-2 Machine Learning/MCDA-aprendizaje-automatico/.venv/lib/python3.10/site-packages/sklearn/linear_model/_logistic.py:1296: FutureWarning: Using the 'liblinear' solver for multiclass classification is deprecated. An error will be raised in 1.8. Either use another solver which supports the multinomial loss or wrap the estimator in a OneVsRestClassifier to keep applying a one-versus-rest scheme.\n",
      "  warnings.warn(\n",
      "/Users/pablosaldarriaga/Library/CloudStorage/OneDrive-Personal/Trabajo/Docencia/EAFIT/2025-2 Machine Learning/MCDA-aprendizaje-automatico/.venv/lib/python3.10/site-packages/sklearn/linear_model/_logistic.py:1281: FutureWarning: 'multi_class' was deprecated in version 1.5 and will be removed in 1.8. Use OneVsRestClassifier(LogisticRegression(..)) instead. Leave it to its default value to avoid this warning.\n",
      "  warnings.warn(\n",
      "/Users/pablosaldarriaga/Library/CloudStorage/OneDrive-Personal/Trabajo/Docencia/EAFIT/2025-2 Machine Learning/MCDA-aprendizaje-automatico/.venv/lib/python3.10/site-packages/sklearn/linear_model/_logistic.py:1296: FutureWarning: Using the 'liblinear' solver for multiclass classification is deprecated. An error will be raised in 1.8. Either use another solver which supports the multinomial loss or wrap the estimator in a OneVsRestClassifier to keep applying a one-versus-rest scheme.\n",
      "  warnings.warn(\n",
      "/Users/pablosaldarriaga/Library/CloudStorage/OneDrive-Personal/Trabajo/Docencia/EAFIT/2025-2 Machine Learning/MCDA-aprendizaje-automatico/.venv/lib/python3.10/site-packages/sklearn/linear_model/_logistic.py:1281: FutureWarning: 'multi_class' was deprecated in version 1.5 and will be removed in 1.8. Use OneVsRestClassifier(LogisticRegression(..)) instead. Leave it to its default value to avoid this warning.\n",
      "  warnings.warn(\n",
      "/Users/pablosaldarriaga/Library/CloudStorage/OneDrive-Personal/Trabajo/Docencia/EAFIT/2025-2 Machine Learning/MCDA-aprendizaje-automatico/.venv/lib/python3.10/site-packages/sklearn/linear_model/_logistic.py:1296: FutureWarning: Using the 'liblinear' solver for multiclass classification is deprecated. An error will be raised in 1.8. Either use another solver which supports the multinomial loss or wrap the estimator in a OneVsRestClassifier to keep applying a one-versus-rest scheme.\n",
      "  warnings.warn(\n",
      "/Users/pablosaldarriaga/Library/CloudStorage/OneDrive-Personal/Trabajo/Docencia/EAFIT/2025-2 Machine Learning/MCDA-aprendizaje-automatico/.venv/lib/python3.10/site-packages/sklearn/linear_model/_logistic.py:1281: FutureWarning: 'multi_class' was deprecated in version 1.5 and will be removed in 1.8. Use OneVsRestClassifier(LogisticRegression(..)) instead. Leave it to its default value to avoid this warning.\n",
      "  warnings.warn(\n",
      "/Users/pablosaldarriaga/Library/CloudStorage/OneDrive-Personal/Trabajo/Docencia/EAFIT/2025-2 Machine Learning/MCDA-aprendizaje-automatico/.venv/lib/python3.10/site-packages/sklearn/linear_model/_logistic.py:1296: FutureWarning: Using the 'liblinear' solver for multiclass classification is deprecated. An error will be raised in 1.8. Either use another solver which supports the multinomial loss or wrap the estimator in a OneVsRestClassifier to keep applying a one-versus-rest scheme.\n",
      "  warnings.warn(\n",
      "/Users/pablosaldarriaga/Library/CloudStorage/OneDrive-Personal/Trabajo/Docencia/EAFIT/2025-2 Machine Learning/MCDA-aprendizaje-automatico/.venv/lib/python3.10/site-packages/sklearn/linear_model/_logistic.py:1281: FutureWarning: 'multi_class' was deprecated in version 1.5 and will be removed in 1.8. Use OneVsRestClassifier(LogisticRegression(..)) instead. Leave it to its default value to avoid this warning.\n",
      "  warnings.warn(\n",
      "/Users/pablosaldarriaga/Library/CloudStorage/OneDrive-Personal/Trabajo/Docencia/EAFIT/2025-2 Machine Learning/MCDA-aprendizaje-automatico/.venv/lib/python3.10/site-packages/sklearn/linear_model/_logistic.py:1296: FutureWarning: Using the 'liblinear' solver for multiclass classification is deprecated. An error will be raised in 1.8. Either use another solver which supports the multinomial loss or wrap the estimator in a OneVsRestClassifier to keep applying a one-versus-rest scheme.\n",
      "  warnings.warn(\n",
      "/Users/pablosaldarriaga/Library/CloudStorage/OneDrive-Personal/Trabajo/Docencia/EAFIT/2025-2 Machine Learning/MCDA-aprendizaje-automatico/.venv/lib/python3.10/site-packages/sklearn/linear_model/_logistic.py:1281: FutureWarning: 'multi_class' was deprecated in version 1.5 and will be removed in 1.8. Use OneVsRestClassifier(LogisticRegression(..)) instead. Leave it to its default value to avoid this warning.\n",
      "  warnings.warn(\n",
      "/Users/pablosaldarriaga/Library/CloudStorage/OneDrive-Personal/Trabajo/Docencia/EAFIT/2025-2 Machine Learning/MCDA-aprendizaje-automatico/.venv/lib/python3.10/site-packages/sklearn/linear_model/_logistic.py:1296: FutureWarning: Using the 'liblinear' solver for multiclass classification is deprecated. An error will be raised in 1.8. Either use another solver which supports the multinomial loss or wrap the estimator in a OneVsRestClassifier to keep applying a one-versus-rest scheme.\n",
      "  warnings.warn(\n",
      "/Users/pablosaldarriaga/Library/CloudStorage/OneDrive-Personal/Trabajo/Docencia/EAFIT/2025-2 Machine Learning/MCDA-aprendizaje-automatico/.venv/lib/python3.10/site-packages/sklearn/linear_model/_logistic.py:1281: FutureWarning: 'multi_class' was deprecated in version 1.5 and will be removed in 1.8. Use OneVsRestClassifier(LogisticRegression(..)) instead. Leave it to its default value to avoid this warning.\n",
      "  warnings.warn(\n",
      "/Users/pablosaldarriaga/Library/CloudStorage/OneDrive-Personal/Trabajo/Docencia/EAFIT/2025-2 Machine Learning/MCDA-aprendizaje-automatico/.venv/lib/python3.10/site-packages/sklearn/linear_model/_logistic.py:1296: FutureWarning: Using the 'liblinear' solver for multiclass classification is deprecated. An error will be raised in 1.8. Either use another solver which supports the multinomial loss or wrap the estimator in a OneVsRestClassifier to keep applying a one-versus-rest scheme.\n",
      "  warnings.warn(\n",
      "/Users/pablosaldarriaga/Library/CloudStorage/OneDrive-Personal/Trabajo/Docencia/EAFIT/2025-2 Machine Learning/MCDA-aprendizaje-automatico/.venv/lib/python3.10/site-packages/sklearn/linear_model/_logistic.py:1281: FutureWarning: 'multi_class' was deprecated in version 1.5 and will be removed in 1.8. Use OneVsRestClassifier(LogisticRegression(..)) instead. Leave it to its default value to avoid this warning.\n",
      "  warnings.warn(\n",
      "/Users/pablosaldarriaga/Library/CloudStorage/OneDrive-Personal/Trabajo/Docencia/EAFIT/2025-2 Machine Learning/MCDA-aprendizaje-automatico/.venv/lib/python3.10/site-packages/sklearn/linear_model/_logistic.py:1296: FutureWarning: Using the 'liblinear' solver for multiclass classification is deprecated. An error will be raised in 1.8. Either use another solver which supports the multinomial loss or wrap the estimator in a OneVsRestClassifier to keep applying a one-versus-rest scheme.\n",
      "  warnings.warn(\n",
      "/Users/pablosaldarriaga/Library/CloudStorage/OneDrive-Personal/Trabajo/Docencia/EAFIT/2025-2 Machine Learning/MCDA-aprendizaje-automatico/.venv/lib/python3.10/site-packages/sklearn/linear_model/_logistic.py:1281: FutureWarning: 'multi_class' was deprecated in version 1.5 and will be removed in 1.8. Use OneVsRestClassifier(LogisticRegression(..)) instead. Leave it to its default value to avoid this warning.\n",
      "  warnings.warn(\n",
      "/Users/pablosaldarriaga/Library/CloudStorage/OneDrive-Personal/Trabajo/Docencia/EAFIT/2025-2 Machine Learning/MCDA-aprendizaje-automatico/.venv/lib/python3.10/site-packages/sklearn/linear_model/_logistic.py:1296: FutureWarning: Using the 'liblinear' solver for multiclass classification is deprecated. An error will be raised in 1.8. Either use another solver which supports the multinomial loss or wrap the estimator in a OneVsRestClassifier to keep applying a one-versus-rest scheme.\n",
      "  warnings.warn(\n",
      "/Users/pablosaldarriaga/Library/CloudStorage/OneDrive-Personal/Trabajo/Docencia/EAFIT/2025-2 Machine Learning/MCDA-aprendizaje-automatico/.venv/lib/python3.10/site-packages/sklearn/linear_model/_logistic.py:1281: FutureWarning: 'multi_class' was deprecated in version 1.5 and will be removed in 1.8. Use OneVsRestClassifier(LogisticRegression(..)) instead. Leave it to its default value to avoid this warning.\n",
      "  warnings.warn(\n",
      "/Users/pablosaldarriaga/Library/CloudStorage/OneDrive-Personal/Trabajo/Docencia/EAFIT/2025-2 Machine Learning/MCDA-aprendizaje-automatico/.venv/lib/python3.10/site-packages/sklearn/linear_model/_logistic.py:1296: FutureWarning: Using the 'liblinear' solver for multiclass classification is deprecated. An error will be raised in 1.8. Either use another solver which supports the multinomial loss or wrap the estimator in a OneVsRestClassifier to keep applying a one-versus-rest scheme.\n",
      "  warnings.warn(\n",
      "/Users/pablosaldarriaga/Library/CloudStorage/OneDrive-Personal/Trabajo/Docencia/EAFIT/2025-2 Machine Learning/MCDA-aprendizaje-automatico/.venv/lib/python3.10/site-packages/sklearn/linear_model/_logistic.py:1281: FutureWarning: 'multi_class' was deprecated in version 1.5 and will be removed in 1.8. Use OneVsRestClassifier(LogisticRegression(..)) instead. Leave it to its default value to avoid this warning.\n",
      "  warnings.warn(\n",
      "/Users/pablosaldarriaga/Library/CloudStorage/OneDrive-Personal/Trabajo/Docencia/EAFIT/2025-2 Machine Learning/MCDA-aprendizaje-automatico/.venv/lib/python3.10/site-packages/sklearn/linear_model/_logistic.py:1296: FutureWarning: Using the 'liblinear' solver for multiclass classification is deprecated. An error will be raised in 1.8. Either use another solver which supports the multinomial loss or wrap the estimator in a OneVsRestClassifier to keep applying a one-versus-rest scheme.\n",
      "  warnings.warn(\n",
      "/Users/pablosaldarriaga/Library/CloudStorage/OneDrive-Personal/Trabajo/Docencia/EAFIT/2025-2 Machine Learning/MCDA-aprendizaje-automatico/.venv/lib/python3.10/site-packages/sklearn/linear_model/_logistic.py:1281: FutureWarning: 'multi_class' was deprecated in version 1.5 and will be removed in 1.8. Use OneVsRestClassifier(LogisticRegression(..)) instead. Leave it to its default value to avoid this warning.\n",
      "  warnings.warn(\n",
      "/Users/pablosaldarriaga/Library/CloudStorage/OneDrive-Personal/Trabajo/Docencia/EAFIT/2025-2 Machine Learning/MCDA-aprendizaje-automatico/.venv/lib/python3.10/site-packages/sklearn/linear_model/_logistic.py:1296: FutureWarning: Using the 'liblinear' solver for multiclass classification is deprecated. An error will be raised in 1.8. Either use another solver which supports the multinomial loss or wrap the estimator in a OneVsRestClassifier to keep applying a one-versus-rest scheme.\n",
      "  warnings.warn(\n",
      "/Users/pablosaldarriaga/Library/CloudStorage/OneDrive-Personal/Trabajo/Docencia/EAFIT/2025-2 Machine Learning/MCDA-aprendizaje-automatico/.venv/lib/python3.10/site-packages/sklearn/linear_model/_logistic.py:1281: FutureWarning: 'multi_class' was deprecated in version 1.5 and will be removed in 1.8. Use OneVsRestClassifier(LogisticRegression(..)) instead. Leave it to its default value to avoid this warning.\n",
      "  warnings.warn(\n",
      "/Users/pablosaldarriaga/Library/CloudStorage/OneDrive-Personal/Trabajo/Docencia/EAFIT/2025-2 Machine Learning/MCDA-aprendizaje-automatico/.venv/lib/python3.10/site-packages/sklearn/linear_model/_logistic.py:1296: FutureWarning: Using the 'liblinear' solver for multiclass classification is deprecated. An error will be raised in 1.8. Either use another solver which supports the multinomial loss or wrap the estimator in a OneVsRestClassifier to keep applying a one-versus-rest scheme.\n",
      "  warnings.warn(\n",
      "/Users/pablosaldarriaga/Library/CloudStorage/OneDrive-Personal/Trabajo/Docencia/EAFIT/2025-2 Machine Learning/MCDA-aprendizaje-automatico/.venv/lib/python3.10/site-packages/sklearn/linear_model/_logistic.py:1281: FutureWarning: 'multi_class' was deprecated in version 1.5 and will be removed in 1.8. Use OneVsRestClassifier(LogisticRegression(..)) instead. Leave it to its default value to avoid this warning.\n",
      "  warnings.warn(\n",
      "/Users/pablosaldarriaga/Library/CloudStorage/OneDrive-Personal/Trabajo/Docencia/EAFIT/2025-2 Machine Learning/MCDA-aprendizaje-automatico/.venv/lib/python3.10/site-packages/sklearn/linear_model/_logistic.py:1296: FutureWarning: Using the 'liblinear' solver for multiclass classification is deprecated. An error will be raised in 1.8. Either use another solver which supports the multinomial loss or wrap the estimator in a OneVsRestClassifier to keep applying a one-versus-rest scheme.\n",
      "  warnings.warn(\n",
      "/Users/pablosaldarriaga/Library/CloudStorage/OneDrive-Personal/Trabajo/Docencia/EAFIT/2025-2 Machine Learning/MCDA-aprendizaje-automatico/.venv/lib/python3.10/site-packages/sklearn/linear_model/_logistic.py:1281: FutureWarning: 'multi_class' was deprecated in version 1.5 and will be removed in 1.8. Use OneVsRestClassifier(LogisticRegression(..)) instead. Leave it to its default value to avoid this warning.\n",
      "  warnings.warn(\n",
      "/Users/pablosaldarriaga/Library/CloudStorage/OneDrive-Personal/Trabajo/Docencia/EAFIT/2025-2 Machine Learning/MCDA-aprendizaje-automatico/.venv/lib/python3.10/site-packages/sklearn/linear_model/_logistic.py:1296: FutureWarning: Using the 'liblinear' solver for multiclass classification is deprecated. An error will be raised in 1.8. Either use another solver which supports the multinomial loss or wrap the estimator in a OneVsRestClassifier to keep applying a one-versus-rest scheme.\n",
      "  warnings.warn(\n",
      "/Users/pablosaldarriaga/Library/CloudStorage/OneDrive-Personal/Trabajo/Docencia/EAFIT/2025-2 Machine Learning/MCDA-aprendizaje-automatico/.venv/lib/python3.10/site-packages/sklearn/linear_model/_logistic.py:1281: FutureWarning: 'multi_class' was deprecated in version 1.5 and will be removed in 1.8. Use OneVsRestClassifier(LogisticRegression(..)) instead. Leave it to its default value to avoid this warning.\n",
      "  warnings.warn(\n",
      "/Users/pablosaldarriaga/Library/CloudStorage/OneDrive-Personal/Trabajo/Docencia/EAFIT/2025-2 Machine Learning/MCDA-aprendizaje-automatico/.venv/lib/python3.10/site-packages/sklearn/linear_model/_logistic.py:1296: FutureWarning: Using the 'liblinear' solver for multiclass classification is deprecated. An error will be raised in 1.8. Either use another solver which supports the multinomial loss or wrap the estimator in a OneVsRestClassifier to keep applying a one-versus-rest scheme.\n",
      "  warnings.warn(\n",
      "/Users/pablosaldarriaga/Library/CloudStorage/OneDrive-Personal/Trabajo/Docencia/EAFIT/2025-2 Machine Learning/MCDA-aprendizaje-automatico/.venv/lib/python3.10/site-packages/sklearn/linear_model/_logistic.py:1281: FutureWarning: 'multi_class' was deprecated in version 1.5 and will be removed in 1.8. Use OneVsRestClassifier(LogisticRegression(..)) instead. Leave it to its default value to avoid this warning.\n",
      "  warnings.warn(\n",
      "/Users/pablosaldarriaga/Library/CloudStorage/OneDrive-Personal/Trabajo/Docencia/EAFIT/2025-2 Machine Learning/MCDA-aprendizaje-automatico/.venv/lib/python3.10/site-packages/sklearn/linear_model/_logistic.py:1296: FutureWarning: Using the 'liblinear' solver for multiclass classification is deprecated. An error will be raised in 1.8. Either use another solver which supports the multinomial loss or wrap the estimator in a OneVsRestClassifier to keep applying a one-versus-rest scheme.\n",
      "  warnings.warn(\n",
      "/Users/pablosaldarriaga/Library/CloudStorage/OneDrive-Personal/Trabajo/Docencia/EAFIT/2025-2 Machine Learning/MCDA-aprendizaje-automatico/.venv/lib/python3.10/site-packages/sklearn/linear_model/_logistic.py:1281: FutureWarning: 'multi_class' was deprecated in version 1.5 and will be removed in 1.8. Use OneVsRestClassifier(LogisticRegression(..)) instead. Leave it to its default value to avoid this warning.\n",
      "  warnings.warn(\n",
      "/Users/pablosaldarriaga/Library/CloudStorage/OneDrive-Personal/Trabajo/Docencia/EAFIT/2025-2 Machine Learning/MCDA-aprendizaje-automatico/.venv/lib/python3.10/site-packages/sklearn/linear_model/_logistic.py:1296: FutureWarning: Using the 'liblinear' solver for multiclass classification is deprecated. An error will be raised in 1.8. Either use another solver which supports the multinomial loss or wrap the estimator in a OneVsRestClassifier to keep applying a one-versus-rest scheme.\n",
      "  warnings.warn(\n"
     ]
    }
   ],
   "source": [
    "### TO DO: Implementar regresion logistica con regularizacion ridge y evaluar su desempeño con validacion cruzada usando kfold\n",
    "### evaluar valores de C (0.01, 0.1, 1, 10, 100) y decidir el mejor valor de C\n",
    "\n",
    "### Estandarizar los datos\n",
    "from sklearn.preprocessing import StandardScaler\n",
    "scaler = StandardScaler()\n",
    "X = scaler.fit_transform(X)\n",
    "\n",
    "# Comparar con diferentes valores de C\n",
    "C_values = [0.01, 0.1, 1, 10, 100]\n",
    "cv = KFold(n_splits=5, shuffle=True, random_state=42)\n",
    "# Almacenar los resultados\n",
    "logistic_results = []\n",
    "for C in C_values:\n",
    "    log_reg = LogisticRegression(C=C, penalty='l2', solver='liblinear', multi_class='ovr', max_iter=200)\n",
    "    scores = cross_val_score(log_reg, X, y, cv=cv, scoring='accuracy')\n",
    "    logistic_results.append((C, np.mean(scores), np.std(scores)))\n",
    "# Convertir resultados a DataFrame para mejor visualización\n",
    "logistic_results_df = pd.DataFrame(logistic_results, columns=['C', 'mean_accuracy', 'std_accuracy'])\n",
    "# Encontrar el mejor valor de C\n",
    "best_C = logistic_results_df.loc[logistic_results_df['mean_accuracy'].idxmax()]\n",
    "print(f\"Mejor C: {best_C['C']} con precisión media: {best_C['mean_accuracy']:.4f} ± {best_C['std_accuracy']:.4f}\")"
   ]
  },
  {
   "cell_type": "code",
   "execution_count": null,
   "id": "9307d397",
   "metadata": {},
   "outputs": [],
   "source": []
  }
 ],
 "metadata": {
  "kernelspec": {
   "display_name": "MCDA-aprendizaje-automatico",
   "language": "python",
   "name": "python3"
  },
  "language_info": {
   "codemirror_mode": {
    "name": "ipython",
    "version": 3
   },
   "file_extension": ".py",
   "mimetype": "text/x-python",
   "name": "python",
   "nbconvert_exporter": "python",
   "pygments_lexer": "ipython3",
   "version": "3.10.18"
  }
 },
 "nbformat": 4,
 "nbformat_minor": 5
}
