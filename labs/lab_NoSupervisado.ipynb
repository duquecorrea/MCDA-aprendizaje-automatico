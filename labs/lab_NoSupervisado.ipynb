{
 "cells": [
  {
   "cell_type": "markdown",
   "id": "7c60219e",
   "metadata": {},
   "source": [
    "# Lab 05: PCA & Clustering\n",
    "\n",
    "Objetivo: Aplicar PCA para reducción de dimensionalidad y KMeans para clustering, evaluando la calidad del agrupamiento con el coeficiente de silueta."
   ]
  },
  {
   "cell_type": "code",
   "execution_count": null,
   "id": "b7c7bdd0",
   "metadata": {},
   "outputs": [],
   "source": [
    "from sklearn.datasets import load_wine\n",
    "from sklearn.preprocessing import StandardScaler\n",
    "from sklearn.decomposition import PCA\n",
    "from sklearn.cluster import KMeans\n",
    "from sklearn.metrics import silhouette_score\n",
    "import matplotlib.pyplot as plt"
   ]
  },
  {
   "cell_type": "code",
   "execution_count": null,
   "id": "b2bf8746",
   "metadata": {},
   "outputs": [],
   "source": [
    "data = load_wine()\n",
    "X = data.data\n",
    "print(\"Shape de X:\", X.shape)\n",
    "print(\"Variables:\", data.feature_names)"
   ]
  },
  {
   "cell_type": "code",
   "execution_count": null,
   "id": "9c0f01d6",
   "metadata": {},
   "outputs": [],
   "source": [
    "### TO DO: Implementar clustering K-means en el conjunto de datos proporcionado.\n",
    "### 1. Utilice el método del codo para determinar el número óptimo de clusters.\n",
    "### 2. Evalúe la calidad del clustering utilizando el coeficiente de silueta.\n",
    "### 3. Realice dos versiones del clustering:\n",
    "###    a) Usando las variables originales.\n",
    "###    b) Usando PCA para reducir la dimensionalidad a 2 componentes principales.\n",
    "### 4. Compare y discuta los resultados obtenidos en ambos casos.\n",
    "### Nota: Recuerde estandarizar las variables antes de aplicar PCA o K-means."
   ]
  },
  {
   "cell_type": "markdown",
   "id": "7bcbe319",
   "metadata": {},
   "source": [
    "1. ¿Qué proporción de la varianza explican los dos primeros componentes principales?\n",
    "2. ¿Cómo cambia la silueta si probamos con k=2, k=3, k=4?\n",
    "3. ¿Qué ventajas tiene aplicar PCA antes de clustering?\n",
    "4. ¿Qué limitaciones podría tener K-means en este dataset?"
   ]
  }
 ],
 "metadata": {
  "kernelspec": {
   "display_name": "MCDA-aprendizaje-automatico",
   "language": "python",
   "name": "python3"
  },
  "language_info": {
   "codemirror_mode": {
    "name": "ipython",
    "version": 3
   },
   "file_extension": ".py",
   "mimetype": "text/x-python",
   "name": "python",
   "nbconvert_exporter": "python",
   "pygments_lexer": "ipython3",
   "version": "3.10.18"
  }
 },
 "nbformat": 4,
 "nbformat_minor": 5
}
